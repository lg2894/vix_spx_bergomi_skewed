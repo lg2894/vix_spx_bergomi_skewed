{
 "cells": [
  {
   "cell_type": "markdown",
   "metadata": {},
   "source": [
    "<h1 style=\"color:#be4f0c; font-family:Times New Roman\">VIX & SPX JOINT CALIBRATION - SKEWED 2 FACTOR BERGOMI </h1>\n",
    "<h4 style=\"color:#393939; font-style: italic; font-family:Times New Roman\">authors: @lg2894 Louis Guigo - @mak809 Michael Ang</h4>\n",
    "<h3 style=\"color:#001f3f; font-family:Times New Roman\">Imports</h3>"
   ]
  },
  {
   "cell_type": "code",
   "execution_count": 1,
   "metadata": {
    "collapsed": true
   },
   "outputs": [],
   "source": [
    "import time\n",
    "import gc\n",
    "import numba\n",
    "\n",
    "import math\n",
    "import numpy as np\n",
    "import pandas as pd\n",
    "\n",
    "from scipy import optimize, stats, interpolate\n",
    "from scipy.integrate import quad\n",
    "\n",
    "from bqplot import pyplot as qplt\n",
    "from IPython.display import display\n",
    "\n",
    "#TODO: pip install git+git://github.com/khrapovs/impvol\n",
    "from impvol import imp_vol, lfmoneyness, impvol_bisection"
   ]
  },
  {
   "cell_type": "markdown",
   "metadata": {},
   "source": [
    "<h3 style=\"color:#001f3f; font-family:Times New Roman\">Dark theme</h3>"
   ]
  },
  {
   "cell_type": "code",
   "execution_count": 2,
   "metadata": {},
   "outputs": [
    {
     "data": {
      "application/javascript": [
       "document.body.classList.add('theme-dark')"
      ],
      "text/plain": [
       "<IPython.core.display.Javascript object>"
      ]
     },
     "metadata": {},
     "output_type": "display_data"
    }
   ],
   "source": [
    "%%javascript\n",
    "document.body.classList.add('theme-dark')"
   ]
  },
  {
   "cell_type": "markdown",
   "metadata": {},
   "source": [
    "<h1 style=\"color:#ec7f37; font-family:Times New Roman\">PART 1: Skewed model simulation and calibration to VIX and SPX options & futures</h1>\n",
    "<h3 style=\"color:#001f3f; font-family:Times New Roman\">Louis - Model simulation functions</h3>"
   ]
  },
  {
   "cell_type": "code",
   "execution_count": 3,
   "metadata": {
    "collapsed": true,
    "scrolled": true
   },
   "outputs": [],
   "source": [
    "# skewed model parameters arrays used in the simulation (gamma, beta, zeta)\n",
    "def create_array_time_dependent_parameters(times, vix_maturities_array, gamma, beta, zeta):\n",
    "    \"\"\"\n",
    "    Create arrays of piecewise constant parameters of the skewed 2 factor Bergomi mode (gamma, beta, zeta)\n",
    "    \"\"\"\n",
    "    \n",
    "    # allocations\n",
    "    tau = 30.0/365.0 # vix time interval\n",
    "    gamma_t = np.empty_like(times)\n",
    "    beta_t = np.empty_like(times)\n",
    "    zeta_t = np.empty_like(times)\n",
    "    \n",
    "    # before first VIX future maturity\n",
    "    gamma_t[times < vix_maturities_array[0]] = gamma[0]\n",
    "    beta_t[times < vix_maturities_array[0]] = beta[0]\n",
    "    zeta_t[times < vix_maturities_array[0]] = zeta[0]\n",
    "    # from first to second\n",
    "    gamma_t[(times >= vix_maturities_array[0]) &\\\n",
    "            (times < vix_maturities_array[0]+tau)] = gamma[0]\n",
    "    beta_t[(times >= vix_maturities_array[0]) &\\\n",
    "           (times < vix_maturities_array[0]+tau)] = beta[0]\n",
    "    zeta_t[(times >= vix_maturities_array[0]) &\\\n",
    "           (times < vix_maturities_array[0]+tau)] = zeta[0]\n",
    "    \n",
    "    # intermediate\n",
    "    for j in range(1,vix_maturities_array.size-1):\n",
    "        gamma_t[(times >= vix_maturities_array[j]) &\\\n",
    "                (times >= vix_maturities_array[j-1]+tau) &\\\n",
    "                (times < vix_maturities_array[j]+tau)] = gamma[j]\n",
    "        beta_t[(times >= vix_maturities_array[j]) &\\\n",
    "               (times >= vix_maturities_array[j-1]+tau) &\\\n",
    "               (times < vix_maturities_array[j]+tau)] = beta[j]\n",
    "        zeta_t[(times >= vix_maturities_array[j]) &\\\n",
    "               (times >= vix_maturities_array[j-1]+tau) &\\\n",
    "               (times < vix_maturities_array[j]+tau)] = zeta[j]\n",
    "        # if 5 days empty, half sums\n",
    "        gamma_t[(times < vix_maturities_array[j]) &\\\n",
    "                (times >= vix_maturities_array[j-1]+tau)] = 0.5 * (gamma[j-1] + gamma[j])\n",
    "        beta_t[(times < vix_maturities_array[j]) &\\\n",
    "               (times >= vix_maturities_array[j-1]+tau)] = 0.5 * (beta[j-1] + beta[j])\n",
    "        zeta_t[(times < vix_maturities_array[j]) &\\\n",
    "               (times >= vix_maturities_array[j-1]+tau)] = 0.5 * (zeta[j-1] + zeta[j])\n",
    "    \n",
    "    # last maturity\n",
    "    j = vix_maturities_array.size - 1\n",
    "    gamma_t[(times >= vix_maturities_array[j]) &\\\n",
    "            (times >= vix_maturities_array[j-1]+tau)] = gamma[j]\n",
    "    beta_t[(times >= vix_maturities_array[j]) &\\\n",
    "           (times >= vix_maturities_array[j-1]+tau)] = beta[j]\n",
    "    zeta_t[(times >= vix_maturities_array[j]) &\\\n",
    "           (times >= vix_maturities_array[j-1]+tau)] = zeta[j]\n",
    "    # if 5 days empty, half sums\n",
    "    gamma_t[(times < vix_maturities_array[j]) &\\\n",
    "            (times >= vix_maturities_array[j-1]+tau)] = 0.5 * (gamma[j-1] + gamma[j])\n",
    "    beta_t[(times < vix_maturities_array[j]) &\\\n",
    "           (times >= vix_maturities_array[j-1]+tau)] = 0.5 * (beta[j-1] + beta[j])\n",
    "    zeta_t[(times < vix_maturities_array[j]) &\\\n",
    "           (times >= vix_maturities_array[j-1]+tau)] = 0.5 * (zeta[j-1] + zeta[j])\n",
    "    \n",
    "    return (gamma_t, beta_t, zeta_t)"
   ]
  },
  {
   "cell_type": "code",
   "execution_count": 4,
   "metadata": {
    "collapsed": true,
    "scrolled": true
   },
   "outputs": [],
   "source": [
    "# xi_t^T in the skewed 2 factor model - [T,x1,x2 = vectors]\n",
    "def instantaneous_variance_x_t_T(t, x1, x2, T, theta, alphatheta, k1, k2, rho12, nu,\\\n",
    "                     xi0, gamma_t, beta_t, zeta_t, omega_t, times):\n",
    "\n",
    "    # t of xi_t^T\n",
    "    maturity_time_index = np.abs(times - t).argmin()\n",
    "    # T of xi_t^T\n",
    "    T_time_index = (np.abs(times[:, np.newaxis] - T[np.newaxis, :])).argmin(axis=0)\n",
    "    \n",
    "    # value of time dependent parameters at T\n",
    "    omega, gamma, beta, zeta = omega_t[T_time_index].reshape((-1,1)),\\\n",
    "                               gamma_t[T_time_index].reshape((-1,1)),\\\n",
    "                               beta_t[T_time_index].reshape((-1,1)),\\\n",
    "                               zeta_t[T_time_index].reshape((-1,1))\n",
    "    \n",
    "    chi = (alphatheta**2) * (((1-theta)**2) * np.exp(-2 * k1 * (T-t)) *\\\n",
    "                                 (1 - np.exp(-2 * k1 * t)) / (2 * k1)\\\n",
    "                             + (theta**2) * np.exp(-2 * k2 * (T-t)) *\\\n",
    "                                 (1 - np.exp(-2 * k2 * t)) / (2 * k2) +\\\n",
    "                             2*theta*(1-theta)*rho12 * np.exp(-(k1+k2) * (T-t)) *\\\n",
    "                                     (1 - np.exp(-(k1+k2)*t)) / (k1+k2)\\\n",
    "                             )\n",
    "    \n",
    "    x = alphatheta * ((1-theta) * np.exp(-k1 * (T[:,np.newaxis] - t)) * x1[np.newaxis,:] +\\\n",
    "                      theta * np.exp(-k2 * (T[:,np.newaxis] - t)) * x2[np.newaxis,:])\n",
    "\n",
    "    return(xi0[T_time_index].reshape((-1,1)) * \\\n",
    "           ((1-gamma)*np.exp(omega*x -0.5*(omega**2)*chi.reshape((-1,1))) + \\\n",
    "            gamma*np.exp(beta*omega*x - 0.5*((omega*beta)**2)*chi.reshape((-1,1)))))\n",
    "\n",
    "\n",
    "# VIX - basket of inst. var. (int (xi_T^u du) u=T to T+tau) - Riemman sums\n",
    "def vix_in_model(x1, x2, T, theta, alphatheta, k1, k2, rho12, nu, xi0,\\\n",
    "                 gamma_t, beta_t, zeta_t, omega_t, times,\\\n",
    "                 nb_points_riemman_sum=40):\n",
    "    \n",
    "    # vix time interval\n",
    "    tau = 30.0/365.0\n",
    "    \n",
    "    # riemman nodes\n",
    "    times_inside = np.linspace(T, T+tau, nb_points_riemman_sum)\n",
    "    value_at_nodes = instantaneous_variance_x_t_T(T, x1, x2, times_inside,\\\n",
    "                                            theta, alphatheta, k1, k2, rho12, nu, xi0,\\\n",
    "                                            gamma_t, beta_t, zeta_t, omega_t, times)\n",
    "    # sum trapezes\n",
    "    return(100 * np.sqrt(np.sum((value_at_nodes[1:,:] + value_at_nodes[:-1,:]) / \\\n",
    "                                (2*(value_at_nodes.shape[0]-1)), axis=0)))"
   ]
  },
  {
   "cell_type": "code",
   "execution_count": 5,
   "metadata": {
    "collapsed": true,
    "scrolled": true
   },
   "outputs": [],
   "source": [
    "# simulate increments of model processes (X1_t, X2_t, S_t)\n",
    "def simulate_processes_increments(times, nb_paths, nb_steps,\\\n",
    "                             k1, k2, nu, rhoS1, rhoS2, rho12):\n",
    "    \n",
    "    # draw std normal gaussian vector realizations\n",
    "    gaussian_3d_N01 = np.random.normal(size=(nb_paths,nb_steps,3))\n",
    "    \n",
    "    def covariance_matrix_function(dt):\n",
    "\n",
    "        I1 = (1 - np.exp(-k1*dt))/(k1*dt)\n",
    "        I2 = (1 - np.exp(-k2*dt))/(k2*dt)\n",
    "        \n",
    "        I1I1 = (1 - np.exp(-2*k1*dt))/(2*k1*dt)\n",
    "        I2I2 = (1 - np.exp(-2*k2*dt))/(2*k2*dt)\n",
    "        I1I2 = rho12*(1 - np.exp(-(k1+k2)*dt))/((k1+k2)*dt)\n",
    "        \n",
    "\n",
    "        cov_matrix = dt * np.matrix([[I1I1, I1I2, rhoS1*I1],\\\n",
    "                                     [I1I2, I2I2, rhoS2*I2],\\\n",
    "                                     [rhoS1*I1, rhoS2*I2, 1.0]])\n",
    "\n",
    "        return cov_matrix\n",
    "    \n",
    "    increments = np.empty((nb_paths,nb_steps,3))\n",
    "    \n",
    "    for j in range(1, nb_steps):\n",
    "        dt = times[j] - times[j-1]\n",
    "        \n",
    "        # instantaneous covariance matrix\n",
    "        cov_t = covariance_matrix_function(dt)\n",
    "        \n",
    "        # singular value decomposition\n",
    "        U, s, V = np.linalg.svd(cov_t)\n",
    "        svd = np.dot(np.dot(U, np.diag(np.power(s, 0.5))), V)\n",
    "        increments[:,j] = np.einsum('kj,ij->ki', gaussian_3d_N01[:,j], svd)\n",
    "        \n",
    "        # factors increments (o-u processes) \n",
    "        increments[:,j,0] += np.exp(-k1*dt) * increments[:,j-1,0]\n",
    "        increments[:,j,1] += np.exp(-k2*dt) * increments[:,j-1,1]\n",
    "        \n",
    "    return(increments)\n",
    "\n",
    "# Instantaneous variances + stock simultaneously\n",
    "def xi_stock_and_vix(increments, times, nb_paths,\\\n",
    "                          vix_maturity, vix_maturities,\\\n",
    "                          k1, k2, nu, rho12, theta, xi0, gamma, beta, zeta, S0, r, q,\\\n",
    "                          return_vix_path=True, return_stock_path=True):\n",
    "    \n",
    "    # constants (vix time interval, alpha_theta)\n",
    "    tau = 30.0 / 365.0\n",
    "    a = 1 / np.sqrt((1-theta)**2 + theta**2 + 2*rho12*theta*(1-theta))\n",
    "    \n",
    "    # time dependent parameters\n",
    "    nb_steps = len(times)\n",
    "    gamma_t, beta_t, zeta_t = create_array_time_dependent_parameters(times,\\\n",
    "                                                    vix_maturities, gamma, beta, zeta)\n",
    "    nu_t = np.array([nu * zeta_t[i] / ((1-gamma_t[i]) + beta_t[i] * gamma_t[i])\\\n",
    "                     for i in range(nb_steps)])\n",
    "    omega_t = 2 * nu_t\n",
    "    \n",
    "    # allocations\n",
    "    xi_paths = np.empty((nb_paths,nb_steps))\n",
    "    stock_paths = np.empty((nb_paths,nb_steps))\n",
    "    vix_paths = np.empty((1,nb_paths))\n",
    "    stock_paths[:,0] = S0\n",
    "    \n",
    "    # stock paths computation\n",
    "    if return_stock_path:\n",
    "        # t = 0\n",
    "        k = np.array([[k1], [k2]])\n",
    "        norm = a*np.array([[1-theta], [theta]])\n",
    "        chi_t_vector = a**2 * ((1-theta)**2 * (1 - np.exp(-2*k1*times))/(2*k1)\n",
    "                            + theta**2 * (1 - np.exp(-2*k2*times))/(2*k2)\n",
    "                            + 2*rho12*theta*(1-theta) * (1-np.exp(-(k1+k2)*times))/(k1+k2)\n",
    "                            )\n",
    "        little_xt = (norm*[increments[:,0,0], increments[:,0,1]]).sum(axis=0)\n",
    "        xi_paths[:,0] = xi0[0] * ((1-gamma_t[0])*np.exp(omega_t[0]*little_xt\\\n",
    "                                                      - 0.5*(omega_t[0]**2)*chi_t_vector[0]) \\\n",
    "                                        + gamma_t[0]*np.exp(beta_t[0]*omega_t[0]*little_xt\\\n",
    "                                                - 0.5*((omega_t[0]*beta_t[0])**2)*chi_t_vector[0]))\n",
    "        \n",
    "        for j in range(1,nb_steps):\n",
    "            dt = times[j] - times[j-1]\n",
    "\n",
    "            # instantaneous variance\n",
    "            little_xt = (norm*[increments[:,j,0], increments[:,j,1]]).sum(axis=0)\n",
    "            xi_paths[:,j] = xi0[j] * ((1-gamma_t[j])*np.exp(omega_t[j]*little_xt\\\n",
    "                                                    - 0.5*(omega_t[j]**2)*chi_t_vector[j]) + \\\n",
    "                                       gamma_t[j]*np.exp(beta_t[j]*omega_t[j]*little_xt\\\n",
    "                                                - 0.5*((omega_t[j]*beta_t[j])**2)*chi_t_vector[j]))\n",
    "\n",
    "            # S_t via log euler scheme\n",
    "            stock_paths[:,j] = stock_paths[:,j-1] * np.exp(np.sqrt(xi_paths[:,j-1]) * increments[:,j,2]\\\n",
    "                                                        + (r(times[j])-q(times[j]) - 0.5*xi_paths[:,j-1])*dt)\n",
    "\n",
    "    # vix computation\n",
    "    vix_maturity_index = np.abs(times - vix_maturity).argmin()\n",
    "    vix_maturity_times = times[vix_maturity_index]\n",
    "    if return_vix_path:\n",
    "        vix_paths = vix_in_model(increments[:,vix_maturity_index,0], increments[:,vix_maturity_index,1],\\\n",
    "                                    vix_maturity, theta, a, k1, k2, rho12, nu, xi0,\\\n",
    "                                    gamma_t, beta_t, zeta_t, omega_t, times)\n",
    "\n",
    "    return(xi_paths, stock_paths, vix_paths)"
   ]
  },
  {
   "cell_type": "markdown",
   "metadata": {},
   "source": [
    "<h3 style=\"color:#001f3f; font-family:Times New Roman\">Louis - Test simulation functions</h3>"
   ]
  },
  {
   "cell_type": "code",
   "execution_count": 6,
   "metadata": {
    "collapsed": true,
    "scrolled": true
   },
   "outputs": [],
   "source": [
    "# grid and montecarlo parameters\n",
    "nsteps_per_year = 200\n",
    "maturity = 1.0\n",
    "nb_paths = 100000\n",
    "nb_steps = int(maturity * nsteps_per_year)\n",
    "times = np.linspace(0, maturity, nb_steps)\n",
    "\n",
    "# model parameters\n",
    "k1 = 5.35\n",
    "k2 = 0.28\n",
    "nu = 1.74\n",
    "rhoS1 = 0.0\n",
    "rhoS2 = 0.0\n",
    "chi = 0.0\n",
    "rho12 = rhoS1*rhoS2 + chi*np.sqrt(1-rhoS1**2)*np.sqrt(1-rhoS2**2)\n",
    "theta = 0.245\n",
    "\n",
    "# simulate increments\n",
    "increments = simulate_processes_increments(times, nb_paths, nb_steps,\\\n",
    "                                           k1, k2, nu,\\\n",
    "                                           rhoS1, rhoS2, rho12)"
   ]
  },
  {
   "cell_type": "code",
   "execution_count": 7,
   "metadata": {
    "collapsed": true,
    "scrolled": true
   },
   "outputs": [],
   "source": [
    "# market as of october 8\n",
    "vix_maturities = np.array([8, 36, 64, 92, 120, 148]) / 365\n",
    "vix_maturity = vix_maturities[1]\n",
    "# to be found (taken deterministic for now)\n",
    "xi0 = lambda t: 0.2**2 * np.ones_like(t)\n",
    "S0 = 100.0\n",
    "r = lambda t: 0.0\n",
    "q = lambda t: 0.0"
   ]
  },
  {
   "cell_type": "code",
   "execution_count": 8,
   "metadata": {
    "collapsed": true,
    "scrolled": true
   },
   "outputs": [],
   "source": [
    "# time dependent parameters (julien's input here)\n",
    "gamma_beta_zeta = np.zeros((len(vix_maturities),3))\n",
    "gamma_beta_zeta[:,0] = np.array([0.6]*len(vix_maturities))\n",
    "gamma_beta_zeta[:,1] = np.array([0.2]*len(vix_maturities))\n",
    "gamma_beta_zeta[:,2] = np.array([0.5]*len(vix_maturities))"
   ]
  },
  {
   "cell_type": "code",
   "execution_count": 9,
   "metadata": {
    "collapsed": true,
    "scrolled": true
   },
   "outputs": [],
   "source": [
    "# instantaneous variances and spot paths + vix at maturity vix_maturity \n",
    "xi, stock, vix = xi_stock_and_vix(increments, times, nb_paths,\\\n",
    "                          vix_maturity, vix_maturities,\\\n",
    "                          k1, k2, nu, rho12, theta,\\\n",
    "                          xi0(times), gamma_beta_zeta[:,0], gamma_beta_zeta[:,1], gamma_beta_zeta[:,2],\\\n",
    "                          S0, r, q)"
   ]
  },
  {
   "cell_type": "markdown",
   "metadata": {},
   "source": [
    "<h3 style=\"color:#001f3f; font-family:Times New Roman\"> Louis - VIX and SPX simulated smiles</h3>"
   ]
  },
  {
   "cell_type": "code",
   "execution_count": 10,
   "metadata": {
    "collapsed": true,
    "scrolled": true
   },
   "outputs": [],
   "source": [
    "# European options price from paths (montecarlo)\n",
    "# spx\n",
    "def european_call_spx(price_paths, times, maturity, strikes, r):\n",
    "    maturity_index = np.abs(times - maturity).argmin()\n",
    "    maturity_price = price_paths[:, maturity_index]\n",
    "    payoffs = np.matrix([np.where((maturity_price > k), maturity_price - k, 0.0) for k in strikes])\n",
    "    price = np.exp(-r(maturity)) * payoffs.mean(1)\n",
    "    return(price)\n",
    "# vix\n",
    "def european_call_vix(price_series, strikes):\n",
    "    payoffs = np.matrix([np.where((price_series > k), price_series - k, 0.0) for k in strikes])\n",
    "    price = payoffs.mean(1)\n",
    "    return(price)\n",
    "\n",
    "# range of strikes studied\n",
    "# spx\n",
    "min_strike_spx, max_strike_spx = 0.60, 1.40\n",
    "range_strike_spx = [float(i) for i in range(int(S0*min_strike_spx), int(S0*max_strike_spx))]\n",
    "# vix\n",
    "min_strike_vix, max_strike_vix = 0.75, 2.50\n",
    "future_vix = european_call_vix(vix, [0])[0,0]\n",
    "range_strike_vix = [float(i) for i in range(int(future_vix*min_strike_vix), int(future_vix*max_strike_vix))]"
   ]
  },
  {
   "cell_type": "code",
   "execution_count": 11,
   "metadata": {
    "scrolled": false
   },
   "outputs": [
    {
     "data": {
      "application/vnd.jupyter.widget-view+json": {
       "model_id": "406146b357f740aebc3ce472697e4ba3",
       "version_major": 2,
       "version_minor": 0
      },
      "text/plain": [
       "A Jupyter Widget"
      ]
     },
     "metadata": {},
     "output_type": "display_data"
    },
    {
     "data": {
      "application/vnd.jupyter.widget-view+json": {
       "model_id": "1044a0d858ca4b8794a013520d1f5b72",
       "version_major": 2,
       "version_minor": 0
      },
      "text/plain": [
       "A Jupyter Widget"
      ]
     },
     "metadata": {},
     "output_type": "display_data"
    }
   ],
   "source": [
    "# SPX call prices\n",
    "price_spx_options = np.ravel(european_call_spx(stock, times, maturity, range_strike_spx, r))\n",
    "\n",
    "price_spx_options_fig = qplt.figure(title='SPX call prices - skewed 2 factor Bergomi', \n",
    "           scales={\"x\": qplt.LinearScale()},\n",
    "           min_width=800, min_height=300, width=1000, height=400,\n",
    "           padding_x=.02, padding_y=0.01,\n",
    "           align='right',\n",
    "           legend_location='right')\n",
    "price_spx_options_fig.layout.width = '700px'\n",
    "\n",
    "qplt.plot(np.array(range_strike_spx), price_spx_options,\\\n",
    "          colors=['#FF851B'], marker='circle', marker_size=16)\n",
    "qplt.axes()['x'].label = 'Strike'\n",
    "qplt.axes()['y'].label = 'Price'\n",
    "\n",
    "qplt.show()\n",
    "\n",
    "# SPX call implied volatilities\n",
    "moneyness = lfmoneyness(S0, range_strike_spx, r(maturity), maturity)\n",
    "iv_spx_options = impvol_bisection(moneyness, maturity, price_spx_options/S0, True)\n",
    "\n",
    "iv_spx_options_fig = qplt.figure(title='SPX call implied volatilities - skewed 2 factor Bergomi', \n",
    "           scales={\"x\": qplt.LinearScale()},\n",
    "           min_width=800, min_height=300, width=1000, height=400,\n",
    "           padding_x=.02, padding_y=0.01,\n",
    "           align='right',\n",
    "           legend_location='right')\n",
    "iv_spx_options_fig.layout.width = '700px'\n",
    "\n",
    "qplt.plot(range_strike_spx, iv_spx_options, colors=['#0074D9'], marker='cross', marker_size=16)\n",
    "qplt.axes()['x'].label = 'Strike'\n",
    "qplt.axes()['y'].label = 'Implied vol'\n",
    "\n",
    "qplt.show()"
   ]
  },
  {
   "cell_type": "code",
   "execution_count": 24,
   "metadata": {
    "scrolled": false
   },
   "outputs": [
    {
     "data": {
      "application/vnd.jupyter.widget-view+json": {
       "model_id": "0c4f3516760f49f694dc33097a157b62",
       "version_major": 2,
       "version_minor": 0
      },
      "text/plain": [
       "A Jupyter Widget"
      ]
     },
     "metadata": {},
     "output_type": "display_data"
    },
    {
     "data": {
      "application/vnd.jupyter.widget-view+json": {
       "model_id": "40b8353af628492aa17bef3f368170d3",
       "version_major": 2,
       "version_minor": 0
      },
      "text/plain": [
       "A Jupyter Widget"
      ]
     },
     "metadata": {},
     "output_type": "display_data"
    }
   ],
   "source": [
    "# VIX call prices\n",
    "price_vix_options = np.ravel(european_call_vix(vix, range_strike_vix))\n",
    "\n",
    "price_vix_options_fig = qplt.figure(title='VIX call prices - skewed 2 factor Bergomi',\n",
    "           scales={\"x\": qplt.LinearScale()},\n",
    "           min_width=800, min_height=300, width=1000, height=400,\n",
    "           padding_x=.02, padding_y=0.01,\n",
    "           align='right',\n",
    "           legend_location='right')\n",
    "price_vix_options_fig.layout.width = '700px'\n",
    "\n",
    "qplt.plot(np.ravel(range_strike_vix)/100, price_vix_options, colors=['#FFDC00'],\\\n",
    "          marker='circle', marker_size=16)\n",
    "qplt.axes()['x'].label = 'Strike'\n",
    "qplt.axes()['y'].label = 'Price'\n",
    "\n",
    "qplt.show()\n",
    "\n",
    "# VIX call implied volatilities\n",
    "vix_moneyness = lfmoneyness(future_vix, range_strike_vix, 0.0, vix_maturity)\n",
    "iv_vix_options = impvol_bisection(vix_moneyness, vix_maturity, price_vix_options/future_vix, True)\n",
    "\n",
    "iv_vix_options_fig = qplt.figure(title='VIX call implied volatilities - skewed 2 factor Bergomi',\n",
    "           scales={\"x\": qplt.LinearScale()},\n",
    "           min_width=800, min_height=300, width=1000, height=400,\n",
    "           padding_x=.02, padding_y=0.01,\n",
    "           align='right',\n",
    "           legend_location='right')\n",
    "iv_vix_options_fig.layout.width = '700px'\n",
    "\n",
    "qplt.plot(np.ravel(range_strike_vix)/100, iv_vix_options, colors=['#7FDBFF'],\\\n",
    "          marker='circle', marker_size=16)\n",
    "qplt.vline(level=future_vix/100, colors=['#7FDBFF'], linestyle=['o-'],\\\n",
    "           labels=['Calibrated VIX future '+str(round(future_vix,2))], display_legend=True)\n",
    "qplt.axes()['x'].label = 'Strike'\n",
    "qplt.axes()['y'].label = 'Implied vol'\n",
    "\n",
    "qplt.show()"
   ]
  },
  {
   "cell_type": "markdown",
   "metadata": {},
   "source": [
    "<h3 style=\"color:#001f3f; font-family:Times New Roman\"> Michael - generate fake/actual market data - TO TEST ON THE SKEWED MODEL (see smiles SPX/VIX)</h3>"
   ]
  },
  {
   "cell_type": "code",
   "execution_count": 13,
   "metadata": {
    "collapsed": true,
    "scrolled": true
   },
   "outputs": [],
   "source": [
    "spx_spot = 2901.61\n",
    "\n",
    "# create these\n",
    "spx_mkt_expiries = np.array([1/12, 2/12, 3/12, 4/12, 5/12, 6/12])\n",
    "#Array with SPX maturities\n",
    "\n",
    "spx_mkt_strikes_by_expiry = np.vstack([np.linspace(2840, 2940, 5) for x in range(6)])\n",
    "#Array of arrays with strikes\n",
    "\n",
    "vix_spot = 14.22\n",
    "\n",
    "vix_mkt_expiries = np.array([1/12, 2/12, 3/12, 4/12, 5/12, 6/12])\n",
    "#Array with VIX maturities\n",
    "\n",
    "vix_mkt_strikes_by_expiry = np.vstack([np.array([11, 11.5, 12, 12.5, 13, 13.5, 14, 14.5, 15, 16, 17, 18,\n",
    "                                                 19, 20, 21, 22, 23, 24, 25, 26]) for x in range(6)])\n",
    "#Array of arrays\n",
    "def getXiMkt(time):\n",
    "    mats = [0, 1/12, 1/6, 1/4, 1/3, 5/12, 1/2, 7/12, 2/3, 3/4]\n",
    "    xis = [14.22, 14.875, 15.225, 15.425, 15.925, 16.175, 16.475, 16.625, 16.875, 17.05]\n",
    "    interp = interpolate.interp1d(mats, xis, kind='zero', fill_value='extrapolate')\n",
    "    return interp(time)\n",
    "\n",
    "xio_mkt_curve = np.array([getXiMkt(t) for t in times])\n",
    "#Array with the forward variances implied from the market of variance swaps\n",
    "#Piecewise cst\n",
    "\n",
    "def f_spx(time):\n",
    "    mats = [0, 1/4, 1/2, 3/4, 1]\n",
    "    log_futs = np.log([2901.61, 2907.75, 2916.25, 2925.75, 2936.50])\n",
    "    interp = interpolate.interp1d(mats, log_futs, fill_value='extrapolate')\n",
    "    return np.exp(interp(time))\n",
    "\n",
    "def local_vol_benchmark(maturity, strike):\n",
    "    #done using Julien's parameters\n",
    "    return sigma_loc\n",
    "\n",
    "\n",
    "def instantaneous_rate_from_DF(maturity):\n",
    "    mats = [0, 1/12, 1/4, 1/2]\n",
    "    rs = [0.02158058, 0.02241764, 0.0259709 , 0.02786544]\n",
    "    interp = interpolate.interp1d(mats, rs, kind='zero', fill_value='extrapolate')\n",
    "    return interp(maturity)\n",
    "\n",
    "def repo_rate_from_forward(maturity):\n",
    "    rmats = [0, 1/12, 1/4, 1/2]\n",
    "    rs = [0.02158058, 0.02241764, 0.0259709 , 0.02786544]\n",
    "    interp = interpolate.interp1d(rmats, rs, kind='zero', fill_value='extrapolate')\n",
    "    \n",
    "    qmats = [0, 1/4, 1/2, 3/4, 1]\n",
    "    discounts = np.array([integrate.quad(interp, 0, x)[0] for x in qmats])\n",
    "    log_futs = np.log([2901.61, 2907.75, 2916.25, 2925.75, 2936.50])\n",
    "    qints = log_futs-np.log(2901.61)+discounts\n",
    "    qs = [(qints[i+1]-qints[i])/(qmats[i+1]-qmats[i]) for i in range(len(qmats)-1)]\n",
    "    interp2 = interpolate.interp1d(qmats[:-1], qs, kind='zero', fill_value='extrapolate')\n",
    "    \n",
    "    return interp2(maturity)"
   ]
  },
  {
   "cell_type": "markdown",
   "metadata": {},
   "source": [
    "<h1 style=\"color:#ec7f37; font-family:Times New Roman\">PART 2: Transform the model into a SLV model and learn the $VIX^2$ function</h1>\n",
    "<h3 style=\"color:#001f3f; font-family:Times New Roman\">Louis - Kernel density estimation functions</h3>"
   ]
  },
  {
   "cell_type": "code",
   "execution_count": 14,
   "metadata": {
    "collapsed": true,
    "scrolled": true
   },
   "outputs": [],
   "source": [
    "# define a few kernels\n",
    "kernel_quartic = lambda x : (1-x**2)**2 * (np.abs(x)<1.0)\n",
    "kernel_gaussian = lambda x : np.exp(-x**2/2)"
   ]
  },
  {
   "cell_type": "code",
   "execution_count": 15,
   "metadata": {
    "collapsed": true,
    "scrolled": true
   },
   "outputs": [],
   "source": [
    "# conditional expectation via Nadaraya-Watson (locally weighted average)\n",
    "def conditional_expectation(x, xdata, ydata, sug_bandwidth, kern=kernel_gaussian):\n",
    "    \n",
    "    bandwidth = sug_bandwidth\n",
    "    weights = kern((xdata[:, np.newaxis] - x) / bandwidth)\n",
    "    while (np.sum(weights, axis=0) < 1e-14).any():\n",
    "        bandwidth = 2 * bandwidth\n",
    "        weights = kern((xdata[:, np.newaxis] - x) / bandwidth)\n",
    "        print('Increasing bandwidth to ', bandwidth)\n",
    "    \n",
    "    return np.sum(weights * ydata[:, np.newaxis], axis=0) / np.sum(weights, axis=0)"
   ]
  },
  {
   "cell_type": "code",
   "execution_count": 16,
   "metadata": {
    "scrolled": false
   },
   "outputs": [
    {
     "data": {
      "application/vnd.jupyter.widget-view+json": {
       "model_id": "af37ea5033504dc4a14d7bc4eacafefe",
       "version_major": 2,
       "version_minor": 0
      },
      "text/plain": [
       "A Jupyter Widget"
      ]
     },
     "metadata": {},
     "output_type": "display_data"
    }
   ],
   "source": [
    "# test: generate noisy data from a known function\n",
    "X = np.random.randn(100)\n",
    "g = lambda x : x*(1+x)/(1+x**2)\n",
    "x = np.linspace(X.min(), X.max(), 101)\n",
    "Y = g(X) + 0.25 * np.random.randn(100)\n",
    "bw_silverman = (4/(3*len(X)))**0.2*np.std(X)\n",
    "\n",
    "# scatter plot\n",
    "nw_cond_exp_fig = qplt.figure(title='Nadaraya-Watson kernel density estimation',\n",
    "           scales={\"x\": qplt.LinearScale()},\n",
    "           min_width=800, min_height=300, width=200, height=200,\n",
    "           padding_x=.02, padding_y=0.01,\n",
    "           align='right',\n",
    "           legend_location='bottom-right')\n",
    "\n",
    "qplt.plot(x, conditional_expectation(x, X, Y, bw_silverman, kernel_gaussian), colors=['#FF5A09'],\\\n",
    "          display_legend=True, labels=['NW kernel reg (bw={:.2f})'.format(bw_silverman)],\\\n",
    "          marker='cross', marker_size=16)\n",
    "qplt.scatter(X, Y, colors=['green'])\n",
    "qplt.plot(x, g(x), colors=['#39CCCC'], display_legend=True, labels=['True Function'])\n",
    "\n",
    "qplt.show()"
   ]
  },
  {
   "cell_type": "markdown",
   "metadata": {},
   "source": [
    "<h3 style=\"color:#001f3f; font-family:Times New Roman\">Louis - Simulate the SLV skewed Bergomi 2 factor model - TO FIX!</h3>"
   ]
  },
  {
   "cell_type": "code",
   "execution_count": 17,
   "metadata": {
    "collapsed": true,
    "scrolled": true
   },
   "outputs": [],
   "source": [
    "# method to interpolate the expectation conditional on S_t = x given the grid (X,Y)\n",
    "def interpolate_x_y(x, X, Y, flat=False, bound_array=None):\n",
    "    \n",
    "    # interpolation\n",
    "    interp_result = np.interp(np.atleast_1d(x), X, Y)\n",
    "    assert not np.isnan(interp_result).any(), 'interpolation problem'\n",
    "    \n",
    "    # extrapolation\n",
    "    below, above = x < X[0], x > X[-1]\n",
    "    ## flat\n",
    "    if flat:\n",
    "        interp_result[below], interp_result[above] = Y[0], Y[-1]\n",
    "    ## linear\n",
    "    else:\n",
    "        interp_result[below], interp_result[above] = Y[0]+ (x[below]-X[0])/(X[1]-X[0])*(Y[1]-Y[0]),\\\n",
    "                                 Y[-1] + (x[above]-X[-1])/(X[-2]-X[-1])*(Y[-2]-Y[-1])  \n",
    "    # if bounds, cut the array\n",
    "    if not (bound_array is None):\n",
    "        return np.clip(interp_result, bound_array[0], bound_array[1])\n",
    "    \n",
    "    return interp_result"
   ]
  },
  {
   "cell_type": "code",
   "execution_count": 18,
   "metadata": {
    "collapsed": true,
    "scrolled": true
   },
   "outputs": [],
   "source": [
    "# Local variance computed over a spot grid\n",
    "def model_local_var(stock_path, xi_path, xi0=xi0, times=times, S0=S0):\n",
    "\n",
    "    # grid parameters\n",
    "    grid_size = 60\n",
    "    nw_bandwidth = 3.0\n",
    "    w_grid_spot = 0.8\n",
    "    t_min = 0.1\n",
    "    \n",
    "    # allocations / initializations\n",
    "    nb_steps = len(times)\n",
    "    nb_paths = stock_path.shape[0]\n",
    "    local_variance = np.zeros((nb_steps, grid_size))\n",
    "    grid_spot = np.zeros((nb_steps,grid_size))\n",
    "    \n",
    "    # at time 0\n",
    "    local_variance[0] = (xi0(0.0001)**2) * np.ones(grid_size)\n",
    "    stock_j = stock_path[:,0]\n",
    "    grid_spot[0] = np.linspace(w_grid_spot*np.min(stock_j)+(1.0-w_grid_spot)*S0,\\\n",
    "                               w_grid_spot*np.max(stock_j)+(1.0-w_grid_spot)*S0, grid_size)\n",
    "\n",
    "    for j in range(1,nb_steps):\n",
    "        dt = times[j] - times[j-1]\n",
    "        tj = j * dt\n",
    "        \n",
    "        stock_j = stock_path[:,j]\n",
    "        xi_j = xi_path[:,j]\n",
    "        \n",
    "        # spot grid at time j\n",
    "        grid_spot[j] = np.linspace(w_grid_spot*np.min(stock_j)+(1.0-w_grid_spot)*S0,\\\n",
    "                                   w_grid_spot*np.max(stock_j)+(1.0-w_grid_spot)*S0, grid_size)\n",
    "        \n",
    "        # compute conditional expectation\n",
    "        bandwidth_j = nw_bandwidth * xi0(tj) * S0 * np.sqrt(max(tj,t_min)) * pow(nb_paths,-0.2)\n",
    "        local_variance[j] = conditional_expectation(grid_spot[j], stock_j, xi_j, bandwidth_j)\n",
    "\n",
    "    return grid_spot, local_variance"
   ]
  },
  {
   "cell_type": "code",
   "execution_count": 19,
   "metadata": {
    "scrolled": false
   },
   "outputs": [
    {
     "name": "stdout",
     "output_type": "stream",
     "text": [
      "Increasing bandwidth to  0.7589466384404111\n",
      "Increasing bandwidth to  0.7589466384404111\n",
      "Increasing bandwidth to  0.7589466384404111\n",
      "Increasing bandwidth to  0.7589466384404111\n",
      "Increasing bandwidth to  1.5178932768808222\n",
      "Increasing bandwidth to  0.7589466384404111\n",
      "Increasing bandwidth to  0.7589466384404111\n",
      "Increasing bandwidth to  0.7589466384404111\n",
      "Increasing bandwidth to  0.7589466384404111\n",
      "Increasing bandwidth to  1.5178932768808222\n",
      "Increasing bandwidth to  0.7589466384404111\n",
      "Increasing bandwidth to  0.7589466384404111\n",
      "Increasing bandwidth to  1.483171937091199\n",
      "Increasing bandwidth to  1.5868808886535501\n",
      "Increasing bandwidth to  1.5959748363905901\n",
      "Increasing bandwidth to  1.7182438153665034\n",
      "Increasing bandwidth to  1.726646035718766\n",
      "Increasing bandwidth to  3.453292071437532\n",
      "Increasing bandwidth to  2.2051561323042908\n",
      "Increasing bandwidth to  2.211709359626013\n",
      "Increasing bandwidth to  2.3879092429914177\n",
      "Increasing bandwidth to  2.3939622545858588\n",
      "Increasing bandwidth to  4.7879245091717175\n",
      "Increasing bandwidth to  2.4000000000000057\n",
      "Increasing bandwidth to  4.800000000000011\n",
      "Increasing bandwidth to  9.600000000000023\n"
     ]
    }
   ],
   "source": [
    "# build the local_var, local_spot grid on which we interpolate in the simulation\n",
    "stock_grid, local_var_grid = model_local_var(stock, xi)"
   ]
  },
  {
   "cell_type": "code",
   "execution_count": 20,
   "metadata": {
    "collapsed": true,
    "scrolled": true
   },
   "outputs": [],
   "source": [
    "# stochastic local skewed bergomi 2 factor\n",
    "def xi_stock_skewed_slv(stock_grid, local_var_grid, local_vol_function,\\\n",
    "                 times, increments,\\\n",
    "                 k1, k2, nu, rho12,\\\n",
    "                 theta, xi0, gamma, beta, zeta, S0, r, q):\n",
    "\n",
    "    # simulation variables\n",
    "    nb_paths, nb_steps = increments.shape[0], increments.shape[1]\n",
    "    a = 1 / np.sqrt((1-theta)**2 + theta**2 + 2*rho12*theta*(1-theta))\n",
    "    \n",
    "    # time dependent parameters\n",
    "    gamma_t, beta_t, zeta_t = create_array_time_dependent_parameters(times,\\\n",
    "                                                    vix_maturities, gamma, beta, zeta)\n",
    "    nu_t = np.array([nu * zeta_t[i] / ((1-gamma_t[i]) + beta_t[i] * gamma_t[i])\\\n",
    "                     for i in range(nb_steps)])\n",
    "    omega_t = 2 * nu_t\n",
    "    \n",
    "    # t = 0\n",
    "    k = np.array([[k1], [k2]])\n",
    "    norm = a*np.array([[1-theta], [theta]])\n",
    "    chi_t_vector = a**2 * ((1-theta)**2 * (1 - np.exp(-2*k1*times))/(2*k1)\n",
    "                        + theta**2 * (1 - np.exp(-2*k2*times))/(2*k2)\n",
    "                        + 2*rho12*theta*(1-theta) * (1-np.exp(-(k1+k2)*times))/(k1+k2)\n",
    "                        )\n",
    "    \n",
    "    # processes\n",
    "    xi_t = np.ones((nb_steps, nb_paths)) * xi0(np.array([times]).T)\n",
    "    local_vol = np.zeros((nb_steps-1,nb_paths))\n",
    "    \n",
    "    # stochastic local variables arrays\n",
    "    conditional_expectation = np.zeros((nb_steps-1,nb_paths))\n",
    "    leverage_function = np.zeros((nb_steps-1,nb_paths))\n",
    "    vol_stochastic_local = np.zeros((nb_steps-1,nb_paths))\n",
    "    stock_stochastic_local = np.ones((nb_steps,nb_paths)) * S0\n",
    "    \n",
    "    times_sim = times[1:]\n",
    "    for ti, t in enumerate(times_sim):\n",
    "        t0 = times[ti]\n",
    "        dt = t - t0\n",
    "\n",
    "        # instantaneous variance # beware indices\n",
    "        little_xt = (norm*[increments[:,ti,0], increments[:,ti,1]]).sum(axis=0)\n",
    "        xi_t[ti+1] = xi0(t0) *\\\n",
    "                            ((1-gamma_t[ti])*np.exp(omega_t[ti]*little_xt\\\n",
    "                                - 0.5*(omega_t[ti]**2)*chi_t_vector[ti]) + \\\n",
    "                            gamma_t[ti]*np.exp(beta_t[ti]*omega_t[ti]*little_xt\\\n",
    "                                - 0.5*((omega_t[ti]*beta_t[ti])**2)*chi_t_vector[ti]))\n",
    "\n",
    "        \n",
    "        # leverage function computation\n",
    "        grid_stock_ti = stock_grid[ti]\n",
    "        local_var_ti = local_var_grid[ti]\n",
    "        stock_stoch_loc_ti = stock_stochastic_local[ti]\n",
    "        local_vol[ti] = local_vol_function(T=max(t0,0.0001), K=stock_stoch_loc_ti)\n",
    "        conditional_expectation[ti] = interpolate_x_y(stock_stoch_loc_ti,\\\n",
    "                                            grid_stock_ti, local_var_ti, flat=True)\n",
    "        leverage_function[ti] = local_vol[ti] / np.sqrt(conditional_expectation[ti])\n",
    "\n",
    "        # stochastic local vol\n",
    "        vol_stochastic_local[ti] = leverage_function[ti] * np.sqrt(xi_t[ti])\n",
    "\n",
    "        # spot via log euler scheme\n",
    "        stock_stochastic_local[ti+1] = stock_stochastic_local[ti] *\\\n",
    "                                np.exp(vol_stochastic_local[ti] * increments[:,ti,2]\\\n",
    "                                + (r(t0)-q(t0) - 0.5*dt*vol_stochastic_local[ti]**2))\n",
    "\n",
    "\n",
    "    return stock_stochastic_local, vol_stochastic_local,\\\n",
    "            xi_t, local_vol, conditional_expectation, leverage_function"
   ]
  },
  {
   "cell_type": "code",
   "execution_count": 21,
   "metadata": {
    "scrolled": true
   },
   "outputs": [],
   "source": [
    "# benchmark ...\n",
    "local_vol_function = lambda T,K: ((0.1 - 0.15 * np.log(K/S0))/np.sqrt(T))/10.0 + 0.1\n",
    "# simulation\n",
    "stock_stochastic_local, vol_stochastic_local,\\\n",
    "xi_t, local_vol,\\\n",
    "conditional_expectation,\\\n",
    "leverage_function = xi_stock_skewed_slv(stock_grid, local_var_grid, local_vol_function,\\\n",
    "                                        times, increments,\\\n",
    "                                        k1, k2, nu, rho12,\\\n",
    "                                        theta, xi0, gamma_beta_zeta[:,0],\\\n",
    "                                        gamma_beta_zeta[:,1],\\\n",
    "                                        gamma_beta_zeta[:,2], S0, r, q)"
   ]
  },
  {
   "cell_type": "markdown",
   "metadata": {},
   "source": [
    "<h3 style=\"color:#001f3f; font-family:Times New Roman\">Test the slv version of the model on a local vol benchmark</h3>"
   ]
  },
  {
   "cell_type": "code",
   "execution_count": 22,
   "metadata": {
    "scrolled": false
   },
   "outputs": [
    {
     "data": {
      "application/vnd.jupyter.widget-view+json": {
       "model_id": "251e1587420e4d3086c3ebcf5d63b831",
       "version_major": 2,
       "version_minor": 0
      },
      "text/plain": [
       "A Jupyter Widget"
      ]
     },
     "metadata": {},
     "output_type": "display_data"
    },
    {
     "data": {
      "application/vnd.jupyter.widget-view+json": {
       "model_id": "bddb8924428f4cb09f14478309b89016",
       "version_major": 2,
       "version_minor": 0
      },
      "text/plain": [
       "A Jupyter Widget"
      ]
     },
     "metadata": {},
     "output_type": "display_data"
    }
   ],
   "source": [
    "# SPX call prices\n",
    "price_spx_optionsq = np.ravel(european_call_spx(stock_stochastic_local, times, maturity, range_strike_spx, r))\n",
    "\n",
    "price_spx_optionsq_fig = qplt.figure(title='SPX call prices - stochastic local skewed 2 factor Bergomi', \n",
    "           scales={\"x\": qplt.LinearScale()},\n",
    "           min_width=800, min_height=300, width=1000, height=400,\n",
    "           padding_x=.02, padding_y=0.01,\n",
    "           align='right',\n",
    "           legend_location='right')\n",
    "price_spx_optionsq_fig.layout.width = '700px'\n",
    "\n",
    "qplt.plot(np.array(range_strike_spx), price_spx_optionsq,\\\n",
    "          colors=['#FF851B'], marker='circle', marker_size=16)\n",
    "qplt.axes()['x'].label = 'Strike'\n",
    "qplt.axes()['y'].label = 'Price'\n",
    "\n",
    "qplt.show()\n",
    "\n",
    "# SPX call implied volatilities\n",
    "slv_moneyness = lfmoneyness(S0, range_strike_spx, r(maturity), maturity)\n",
    "iv_spx_optionsq = impvol_bisection(slv_moneyness, maturity, price_spx_optionsq/S0, True)\n",
    "\n",
    "iv_spx_options_figq = qplt.figure(title='SPX call implied volatilities - stochastic local skewed 2 factor Bergomi', \n",
    "           scales={\"x\": qplt.LinearScale()},\n",
    "           min_width=800, min_height=300, width=1000, height=400,\n",
    "           padding_x=.02, padding_y=0.01,\n",
    "           align='right',\n",
    "           legend_location='right')\n",
    "iv_spx_options_figq.layout.width = '700px'\n",
    "\n",
    "qplt.plot(np.array(range_strike_spx), iv_spx_optionsq, colors=['#0074D9'], marker='cross', marker_size=16,\\\n",
    "          display_legend=True, labels=['SLV'])\n",
    "qplt.plot(np.array(range_strike_spx), local_vol_function(maturity,np.array(range_strike_spx)),\\\n",
    "          colors=['#7FDBFF'], marker='cross', marker_size=16, display_legend=True, labels=['benchmark'])\n",
    "qplt.axes()['x'].label = 'Strike'\n",
    "qplt.axes()['y'].label = 'Implied vol'\n",
    "\n",
    "qplt.show()"
   ]
  },
  {
   "cell_type": "markdown",
   "metadata": {},
   "source": [
    "<h3 style=\"color:#001f3f; font-family:Times New Roman\">$VIX^2$ learning process - TODO</h3>"
   ]
  },
  {
   "cell_type": "code",
   "execution_count": null,
   "metadata": {
    "collapsed": true,
    "scrolled": true
   },
   "outputs": [],
   "source": []
  }
 ],
 "metadata": {
  "kernelspec": {
   "display_name": "Python 3",
   "language": "python",
   "name": "python3"
  },
  "language_info": {
   "codemirror_mode": {
    "name": "ipython",
    "version": 3
   },
   "file_extension": ".py",
   "mimetype": "text/x-python",
   "name": "python",
   "nbconvert_exporter": "python",
   "pygments_lexer": "ipython3",
   "version": "3.6.3"
  }
 },
 "nbformat": 4,
 "nbformat_minor": 2
}
