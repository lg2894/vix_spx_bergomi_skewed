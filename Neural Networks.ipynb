{
 "cells": [
  {
   "cell_type": "code",
   "execution_count": 57,
   "metadata": {},
   "outputs": [],
   "source": [
    "'''\n",
    "How to use Keras API to build a Neural Network\n",
    "\n",
    "First, use \"conda install tensorflow\" and \"conda install keras\"\n",
    "For more complicated models or classifications, refer to https://keras.io/getting-started/sequential-model-guide/\n",
    "'''\n",
    "import tensorflow as tf\n",
    "import numpy as np\n",
    "from keras.models import Sequential\n",
    "from keras.layers import Dense\n",
    "from keras.models import load_model\n",
    "from keras import metrics"
   ]
  },
  {
   "cell_type": "code",
   "execution_count": 58,
   "metadata": {},
   "outputs": [],
   "source": [
    "'''\n",
    "Generate some fake data\n",
    "\n",
    "For catergorical data:  keras.utils.to_categorical(np.random.randint(10, size=(1000, 1)), num_classes=10)\n",
    "'''\n",
    "X = np.random.normal(0,1,[100000,4])\n",
    "Y = np.sum(X, axis=1)"
   ]
  },
  {
   "cell_type": "code",
   "execution_count": 59,
   "metadata": {},
   "outputs": [
    {
     "name": "stdout",
     "output_type": "stream",
     "text": [
      "Epoch 1/50\n",
      "100000/100000 [==============================] - 2s 15us/step - loss: 4.0529 - mean_squared_error: 4.0529\n",
      "Epoch 2/50\n",
      "100000/100000 [==============================] - 1s 8us/step - loss: 3.9965 - mean_squared_error: 3.9965\n",
      "Epoch 3/50\n",
      "100000/100000 [==============================] - 1s 8us/step - loss: 3.9941 - mean_squared_error: 3.9941\n",
      "Epoch 4/50\n",
      "100000/100000 [==============================] - 1s 8us/step - loss: 3.9938 - mean_squared_error: 3.9938\n",
      "Epoch 5/50\n",
      "100000/100000 [==============================] - 1s 8us/step - loss: 3.9935 - mean_squared_error: 3.9935\n",
      "Epoch 6/50\n",
      "100000/100000 [==============================] - 1s 9us/step - loss: 3.9929 - mean_squared_error: 3.9929\n",
      "Epoch 7/50\n",
      "100000/100000 [==============================] - 1s 8us/step - loss: 3.9920 - mean_squared_error: 3.9920\n",
      "Epoch 8/50\n",
      "100000/100000 [==============================] - 1s 9us/step - loss: 3.9900 - mean_squared_error: 3.9900\n",
      "Epoch 9/50\n",
      "100000/100000 [==============================] - 1s 9us/step - loss: 3.9853 - mean_squared_error: 3.9853\n",
      "Epoch 10/50\n",
      "100000/100000 [==============================] - 1s 8us/step - loss: 3.9701 - mean_squared_error: 3.9701\n",
      "Epoch 11/50\n",
      "100000/100000 [==============================] - 1s 8us/step - loss: 3.9046 - mean_squared_error: 3.9046\n",
      "Epoch 12/50\n",
      "100000/100000 [==============================] - 1s 9us/step - loss: 3.6139 - mean_squared_error: 3.6139\n",
      "Epoch 13/50\n",
      "100000/100000 [==============================] - 1s 9us/step - loss: 3.0980 - mean_squared_error: 3.0980\n",
      "Epoch 14/50\n",
      "100000/100000 [==============================] - 1s 9us/step - loss: 2.8830 - mean_squared_error: 2.8830\n",
      "Epoch 15/50\n",
      "100000/100000 [==============================] - 1s 9us/step - loss: 2.8465 - mean_squared_error: 2.8465\n",
      "Epoch 16/50\n",
      "100000/100000 [==============================] - 1s 9us/step - loss: 2.8391 - mean_squared_error: 2.8391\n",
      "Epoch 17/50\n",
      "100000/100000 [==============================] - 1s 8us/step - loss: 2.8368 - mean_squared_error: 2.8368\n",
      "Epoch 18/50\n",
      "100000/100000 [==============================] - 1s 9us/step - loss: 2.8359 - mean_squared_error: 2.8359\n",
      "Epoch 19/50\n",
      "100000/100000 [==============================] - 1s 8us/step - loss: 2.8353 - mean_squared_error: 2.8353\n",
      "Epoch 20/50\n",
      "100000/100000 [==============================] - 1s 9us/step - loss: 2.8349 - mean_squared_error: 2.8349\n",
      "Epoch 21/50\n",
      "100000/100000 [==============================] - 1s 8us/step - loss: 2.8346 - mean_squared_error: 2.8346\n",
      "Epoch 22/50\n",
      "100000/100000 [==============================] - 1s 8us/step - loss: 2.8344 - mean_squared_error: 2.8344\n",
      "Epoch 23/50\n",
      "100000/100000 [==============================] - 1s 9us/step - loss: 2.8342 - mean_squared_error: 2.8342\n",
      "Epoch 24/50\n",
      "100000/100000 [==============================] - 1s 8us/step - loss: 2.8340 - mean_squared_error: 2.8340\n",
      "Epoch 25/50\n",
      "100000/100000 [==============================] - 1s 8us/step - loss: 2.8339 - mean_squared_error: 2.8339\n",
      "Epoch 26/50\n",
      "100000/100000 [==============================] - 1s 8us/step - loss: 2.8337 - mean_squared_error: 2.8337\n",
      "Epoch 27/50\n",
      "100000/100000 [==============================] - 1s 8us/step - loss: 2.8336 - mean_squared_error: 2.8336\n",
      "Epoch 28/50\n",
      "100000/100000 [==============================] - 1s 8us/step - loss: 2.8335 - mean_squared_error: 2.8335\n",
      "Epoch 29/50\n",
      "100000/100000 [==============================] - 1s 8us/step - loss: 2.8334 - mean_squared_error: 2.8334\n",
      "Epoch 30/50\n",
      "100000/100000 [==============================] - 1s 8us/step - loss: 2.8334 - mean_squared_error: 2.8334\n",
      "Epoch 31/50\n",
      "100000/100000 [==============================] - 1s 8us/step - loss: 2.8333 - mean_squared_error: 2.8333\n",
      "Epoch 32/50\n",
      "100000/100000 [==============================] - 1s 8us/step - loss: 2.8332 - mean_squared_error: 2.8332\n",
      "Epoch 33/50\n",
      "100000/100000 [==============================] - 1s 8us/step - loss: 2.8332 - mean_squared_error: 2.8332\n",
      "Epoch 34/50\n",
      "100000/100000 [==============================] - 1s 8us/step - loss: 2.8331 - mean_squared_error: 2.8331\n",
      "Epoch 35/50\n",
      "100000/100000 [==============================] - 1s 8us/step - loss: 2.8330 - mean_squared_error: 2.8330\n",
      "Epoch 36/50\n",
      "100000/100000 [==============================] - 1s 8us/step - loss: 2.8330 - mean_squared_error: 2.8330\n",
      "Epoch 37/50\n",
      "100000/100000 [==============================] - 1s 8us/step - loss: 2.8329 - mean_squared_error: 2.8329\n",
      "Epoch 38/50\n",
      "100000/100000 [==============================] - 1s 8us/step - loss: 2.8329 - mean_squared_error: 2.8329\n",
      "Epoch 39/50\n",
      "100000/100000 [==============================] - 1s 8us/step - loss: 2.8329 - mean_squared_error: 2.8329\n",
      "Epoch 40/50\n",
      "100000/100000 [==============================] - 1s 8us/step - loss: 2.8328 - mean_squared_error: 2.8328\n",
      "Epoch 41/50\n",
      "100000/100000 [==============================] - 1s 8us/step - loss: 2.8328 - mean_squared_error: 2.8328\n",
      "Epoch 42/50\n",
      "100000/100000 [==============================] - 1s 8us/step - loss: 2.8327 - mean_squared_error: 2.8327\n",
      "Epoch 43/50\n",
      "100000/100000 [==============================] - 1s 8us/step - loss: 2.8327 - mean_squared_error: 2.8327\n",
      "Epoch 44/50\n",
      "100000/100000 [==============================] - 1s 8us/step - loss: 2.8327 - mean_squared_error: 2.8327\n",
      "Epoch 45/50\n",
      "100000/100000 [==============================] - 1s 8us/step - loss: 2.8326 - mean_squared_error: 2.8326\n",
      "Epoch 46/50\n",
      "100000/100000 [==============================] - 1s 8us/step - loss: 2.8326 - mean_squared_error: 2.8326\n",
      "Epoch 47/50\n",
      "100000/100000 [==============================] - 1s 8us/step - loss: 2.8326 - mean_squared_error: 2.8326\n",
      "Epoch 48/50\n",
      "100000/100000 [==============================] - 1s 8us/step - loss: 2.8325 - mean_squared_error: 2.8325\n",
      "Epoch 49/50\n",
      "100000/100000 [==============================] - 1s 8us/step - loss: 2.8325 - mean_squared_error: 2.8325\n",
      "Epoch 50/50\n",
      "100000/100000 [==============================] - 1s 9us/step - loss: 2.8324 - mean_squared_error: 2.8324\n",
      "100000/100000 [==============================] - 4s 37us/step\n",
      "\n",
      "loss: 2.83\n"
     ]
    }
   ],
   "source": [
    "'''\n",
    "Build the model with the number of layers\n",
    "\n",
    "First layer must specify number of inputs\n",
    "Dense() means the layers are densely connected\n",
    "Dense(n_nodes, activation function, initial configuration of weights)\n",
    "Final number of nodes must match the output dimension (1 here since it's prediction and not classification)\n",
    "'''\n",
    "model = Sequential()\n",
    "model.add(Dense(100, input_dim=4, init='uniform', activation='sigmoid'))\n",
    "model.add(Dense(100, init='uniform', activation='sigmoid'))\n",
    "model.add(Dense(100, init='uniform', activation='sigmoid'))\n",
    "model.add(Dense(100, init='uniform', activation='sigmoid'))\n",
    "model.add(Dense(1, init='uniform', activation='sigmoid'))\n",
    "\n",
    "'''\n",
    "Specify the loss function, optimizer and metrics\n",
    "optimizer = 'sgd' is also an option\n",
    "metrics are just user-specified indicators to know how well the network is performing and do NOT affect the optimization.\n",
    "The optimization will MINIMIZE THE LOSS\n",
    "'''\n",
    "\n",
    "model.compile(loss='mean_squared_error', optimizer='adam', metrics=[metrics.mean_squared_error])\n",
    "\n",
    "'''\n",
    "Fit the model to the data, specify the number of cycles it will run and the batch size\n",
    "'''\n",
    "model.fit(X, Y, epochs=50, batch_size=10000)"
   ]
  },
  {
   "cell_type": "code",
   "execution_count": 60,
   "metadata": {},
   "outputs": [
    {
     "name": "stdout",
     "output_type": "stream",
     "text": [
      "100000/100000 [==============================] - 4s 42us/step\n",
      "\n",
      "loss: 2.83\n"
     ]
    }
   ],
   "source": [
    "'''\n",
    "Some simple evaluation of the training data at the end\n",
    "'''\n",
    "\n",
    "scores = model.evaluate(X, Y)\n",
    "print(\"\\n%s: %.2f\" % (model.metrics_names[0], scores[0]))"
   ]
  },
  {
   "cell_type": "code",
   "execution_count": 61,
   "metadata": {},
   "outputs": [
    {
     "name": "stdout",
     "output_type": "stream",
     "text": [
      "[[0.5198363]]\n"
     ]
    }
   ],
   "source": [
    "'''\n",
    "How to use the NN to make predictions\n",
    "'''\n",
    "predictions = model.predict(np.array([[0,0.5,0.234,-0.234]]))\n",
    "print(predictions)"
   ]
  },
  {
   "cell_type": "code",
   "execution_count": 49,
   "metadata": {},
   "outputs": [
    {
     "data": {
      "text/plain": [
       "array([[0.50935096]], dtype=float32)"
      ]
     },
     "execution_count": 49,
     "metadata": {},
     "output_type": "execute_result"
    }
   ],
   "source": [
    "'''\n",
    "How to save and load a model\n",
    "\n",
    "model.save('my_model.h5')\n",
    "del model\n",
    "model = load_model('my_model.h5')\n",
    "\n",
    "'''\n",
    "\n"
   ]
  },
  {
   "cell_type": "code",
   "execution_count": 55,
   "metadata": {},
   "outputs": [],
   "source": []
  }
 ],
 "metadata": {
  "kernelspec": {
   "display_name": "Python 3",
   "language": "python",
   "name": "python3"
  },
  "language_info": {
   "codemirror_mode": {
    "name": "ipython",
    "version": 3
   },
   "file_extension": ".py",
   "mimetype": "text/x-python",
   "name": "python",
   "nbconvert_exporter": "python",
   "pygments_lexer": "ipython3",
   "version": "3.6.4"
  }
 },
 "nbformat": 4,
 "nbformat_minor": 2
}
